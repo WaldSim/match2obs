{
 "cells": [
  {
   "cell_type": "code",
   "execution_count": 1,
   "metadata": {},
   "outputs": [],
   "source": [
    "# alle Dateien in eine"
   ]
  },
  {
   "cell_type": "code",
   "execution_count": 1,
   "metadata": {},
   "outputs": [],
   "source": [
    "import pandas as pd\n",
    "import os\n",
    "import glob\n",
    "\n"
   ]
  },
  {
   "cell_type": "code",
   "execution_count": 2,
   "metadata": {},
   "outputs": [],
   "source": [
    "#interesting_files = glob.glob(\"*.xls\")\n",
    "#df_list = []\n",
    "#for filename in sorted(interesting_files):\n",
    "#    df_list.append(pd.read_excel(filename))#, encoding ='ISO-8859-1'))\n",
    "#full_df = pd.concat(df_list)\n",
    "\n",
    "#full_df.to_excel('berlinerstraße.xlsx')"
   ]
  },
  {
   "cell_type": "code",
   "execution_count": 3,
   "metadata": {},
   "outputs": [],
   "source": [
    "#interesting_files = glob.glob(\"HD201220/*.csv\")\n",
    "#df_list = []\n",
    "#for filename in sorted(interesting_files):\n",
    "#    df_list.append(pd.read_csv(filename, encoding ='ISO-8859-1'))\n",
    "#full_df = pd.concat(df_list)\n",
    "\n",
    "#full_df.to_csv('berlinerstraße1220.csv')\n",
    "\n"
   ]
  },
  {
   "cell_type": "code",
   "execution_count": 4,
   "metadata": {},
   "outputs": [],
   "source": [
    "interesting_files = glob.glob(\"../../IUP_Messstation/FebMar21/febMar/*.dat\")\n",
    "df_list = []\n",
    "for filename in sorted(interesting_files):\n",
    "    df_list.append(pd.read_csv(filename))#, encoding ='ISO-8859-1'))\n",
    "full_df = pd.concat(df_list)\n",
    "\n",
    "full_df.to_csv('../../IUP_Messstation/HEImeteo_FebMar_5min.dat')"
   ]
  },
  {
   "cell_type": "code",
   "execution_count": null,
   "metadata": {},
   "outputs": [],
   "source": []
  }
 ],
 "metadata": {
  "kernelspec": {
   "display_name": "Python 3",
   "language": "python",
   "name": "python3"
  },
  "language_info": {
   "codemirror_mode": {
    "name": "ipython",
    "version": 3
   },
   "file_extension": ".py",
   "mimetype": "text/x-python",
   "name": "python",
   "nbconvert_exporter": "python",
   "pygments_lexer": "ipython3",
   "version": "3.8.5"
  }
 },
 "nbformat": 4,
 "nbformat_minor": 4
}
