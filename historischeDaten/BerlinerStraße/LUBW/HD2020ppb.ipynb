{
 "cells": [
  {
   "cell_type": "code",
   "execution_count": 1,
   "metadata": {},
   "outputs": [],
   "source": [
    "## NO2 in ppb "
   ]
  },
  {
   "cell_type": "code",
   "execution_count": 2,
   "metadata": {},
   "outputs": [],
   "source": [
    "import pandas as pd\n",
    "import numpy as np\n",
    "import matplotlib.pyplot as plt\n",
    "\n",
    "%matplotlib inline\n"
   ]
  },
  {
   "cell_type": "code",
   "execution_count": null,
   "metadata": {},
   "outputs": [],
   "source": [
    "# daten laden \n",
    "df = pd.read_csv(\"HD_2020.csv\", encoding=\"ISO-8859-1\", parse_dates=[\"Datum \"],  infer_datetime_format =True)\n",
    "\n",
    "# Molare Masse NO2\n",
    "M = (46.01)\n",
    "# neue Spalte NO2 in ppb generieren\n",
    "df[\"NO2 (ppb)\"]=(df[\"NO2 (Âµg/mÂ³)\"]*(273.15+df[\"Temperatur (Â°C)\"])/(12.187*M))\n",
    "# Tabelle speichern\n",
    "df.to_csv(\"HD_2020_ppb.csv\")"
   ]
  },
  {
   "cell_type": "code",
   "execution_count": 21,
   "metadata": {},
   "outputs": [],
   "source": [
    "## equation"
   ]
  },
  {
   "cell_type": "markdown",
   "metadata": {},
   "source": []
  }
 ],
 "metadata": {
  "kernelspec": {
   "display_name": "Python 3",
   "language": "python",
   "name": "python3"
  },
  "language_info": {
   "codemirror_mode": {
    "name": "ipython",
    "version": 3
   },
   "file_extension": ".py",
   "mimetype": "text/x-python",
   "name": "python",
   "nbconvert_exporter": "python",
   "pygments_lexer": "ipython3",
   "version": "3.8.5"
  }
 },
 "nbformat": 4,
 "nbformat_minor": 4
}
