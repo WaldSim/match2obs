{
 "cells": [
  {
   "cell_type": "code",
   "execution_count": 1,
   "metadata": {},
   "outputs": [],
   "source": [
    "import numpy as np\n",
    "import pandas as pd\n",
    "import locale\n",
    "from locale import atof"
   ]
  },
  {
   "cell_type": "code",
   "execution_count": 2,
   "metadata": {},
   "outputs": [],
   "source": [
    "file_speed = \"23042021112319614.csv\"\n",
    "file_direction = \"23042021112335984.csv\" \n"
   ]
  },
  {
   "cell_type": "code",
   "execution_count": 3,
   "metadata": {},
   "outputs": [
    {
     "ename": "NameError",
     "evalue": "name 'time' is not defined",
     "output_type": "error",
     "traceback": [
      "\u001b[0;31m---------------------------------------------------------------------------\u001b[0m",
      "\u001b[0;31mNameError\u001b[0m                                 Traceback (most recent call last)",
      "\u001b[0;32m<ipython-input-3-5f1a8f8a7523>\u001b[0m in \u001b[0;36m<module>\u001b[0;34m\u001b[0m\n\u001b[1;32m      7\u001b[0m \u001b[0mdf\u001b[0m\u001b[0;34m.\u001b[0m\u001b[0mrename\u001b[0m\u001b[0;34m(\u001b[0m\u001b[0mcolumns\u001b[0m \u001b[0;34m=\u001b[0m \u001b[0;34m{\u001b[0m\u001b[0;34m'Datum / Uhrzeit_x'\u001b[0m \u001b[0;34m:\u001b[0m \u001b[0;34m'Time'\u001b[0m\u001b[0;34m,\u001b[0m \u001b[0;34m'Wert_x'\u001b[0m\u001b[0;34m:\u001b[0m \u001b[0;34m'Wind_Geschwindigkeit'\u001b[0m\u001b[0;34m,\u001b[0m \u001b[0;34m'Wert_y'\u001b[0m \u001b[0;34m:\u001b[0m \u001b[0;34m'Wind_Richtung'\u001b[0m\u001b[0;34m}\u001b[0m\u001b[0;34m,\u001b[0m \u001b[0minplace\u001b[0m \u001b[0;34m=\u001b[0m \u001b[0;32mTrue\u001b[0m\u001b[0;34m)\u001b[0m            \u001b[0;31m#df_new = df.rename(columns={'A': 'Col_1'}, index={'ONE': 'Row_1'})\u001b[0m\u001b[0;34m\u001b[0m\u001b[0;34m\u001b[0m\u001b[0m\n\u001b[1;32m      8\u001b[0m \u001b[0;34m\u001b[0m\u001b[0m\n\u001b[0;32m----> 9\u001b[0;31m \u001b[0mtime_new\u001b[0m \u001b[0;34m=\u001b[0m \u001b[0mnp\u001b[0m\u001b[0;34m.\u001b[0m\u001b[0marray\u001b[0m\u001b[0;34m(\u001b[0m\u001b[0;34m[\u001b[0m\u001b[0mt\u001b[0m\u001b[0;34m.\u001b[0m\u001b[0mreplace\u001b[0m\u001b[0;34m(\u001b[0m\u001b[0;34m\"24:00\"\u001b[0m\u001b[0;34m,\u001b[0m \u001b[0;34m\"00:00\"\u001b[0m\u001b[0;34m)\u001b[0m \u001b[0;32mfor\u001b[0m \u001b[0mt\u001b[0m \u001b[0;32min\u001b[0m \u001b[0mtime\u001b[0m\u001b[0;34m]\u001b[0m\u001b[0;34m)\u001b[0m\u001b[0;34m\u001b[0m\u001b[0;34m\u001b[0m\u001b[0m\n\u001b[0m\u001b[1;32m     10\u001b[0m \u001b[0mdf\u001b[0m\u001b[0;34m[\u001b[0m\u001b[0;34m\"Time\"\u001b[0m\u001b[0;34m]\u001b[0m\u001b[0;34m=\u001b[0m\u001b[0mtime_new\u001b[0m\u001b[0;34m\u001b[0m\u001b[0;34m\u001b[0m\u001b[0m\n\u001b[1;32m     11\u001b[0m \u001b[0mdf\u001b[0m\u001b[0;34m[\u001b[0m\u001b[0;34m\"Time\"\u001b[0m\u001b[0;34m]\u001b[0m\u001b[0;34m=\u001b[0m\u001b[0mdf\u001b[0m\u001b[0;34m[\u001b[0m\u001b[0;34m\"Time\"\u001b[0m\u001b[0;34m]\u001b[0m\u001b[0;34m.\u001b[0m\u001b[0mastype\u001b[0m\u001b[0;34m(\u001b[0m\u001b[0;34m'datetime64[ns]'\u001b[0m\u001b[0;34m)\u001b[0m\u001b[0;34m\u001b[0m\u001b[0;34m\u001b[0m\u001b[0m\n",
      "\u001b[0;31mNameError\u001b[0m: name 'time' is not defined"
     ]
    }
   ],
   "source": [
    "df_speed=pd.read_csv(file_speed, skiprows = [i for i in range(0, 6)], encoding='ISO-8859-1', usecols=[\"Datum / Uhrzeit\", \"Wert\"], decimal=',')\n",
    "df_direction=pd.read_csv(file_direction,skiprows = [i for i in range(0, 6)], encoding='ISO-8859-1', usecols=[\"Datum / Uhrzeit\", \"Wert\"])\n",
    "\n",
    "df = df_speed.merge(df_direction, how='inner', left_index=True, right_index=True)\n",
    "df.drop('Datum / Uhrzeit_y', axis=1, inplace = True)\n",
    "\n",
    "df.rename(columns = {'Datum / Uhrzeit_x' : 'Time', 'Wert_x': 'Wind_Geschwindigkeit', 'Wert_y' : 'Wind_Richtung'}, inplace = True)            #df_new = df.rename(columns={'A': 'Col_1'}, index={'ONE': 'Row_1'})\n",
    "\n",
    "time_new = np.array([t.replace(\"24:00\", \"00:00\") for t in time])\n",
    "df[\"Time\"]=time_new\n",
    "df[\"Time\"]=df[\"Time\"].astype('datetime64[ns]')\n",
    "df_hour=df.resample('H', on='Time').mean()\n",
    "\n",
    "df_hour.to_csv(\"lubw220221_second.csv\")\n",
    "\n"
   ]
  },
  {
   "cell_type": "code",
   "execution_count": 170,
   "metadata": {},
   "outputs": [
    {
     "data": {
      "text/html": [
       "<div>\n",
       "<style scoped>\n",
       "    .dataframe tbody tr th:only-of-type {\n",
       "        vertical-align: middle;\n",
       "    }\n",
       "\n",
       "    .dataframe tbody tr th {\n",
       "        vertical-align: top;\n",
       "    }\n",
       "\n",
       "    .dataframe thead th {\n",
       "        text-align: right;\n",
       "    }\n",
       "</style>\n",
       "<table border=\"1\" class=\"dataframe\">\n",
       "  <thead>\n",
       "    <tr style=\"text-align: right;\">\n",
       "      <th></th>\n",
       "      <th>Wind_Geschwindigkeit</th>\n",
       "      <th>Wind_Richtung</th>\n",
       "    </tr>\n",
       "    <tr>\n",
       "      <th>Time</th>\n",
       "      <th></th>\n",
       "      <th></th>\n",
       "    </tr>\n",
       "  </thead>\n",
       "  <tbody>\n",
       "    <tr>\n",
       "      <th>2021-02-22 00:00:00</th>\n",
       "      <td>0.85</td>\n",
       "      <td>244.0</td>\n",
       "    </tr>\n",
       "    <tr>\n",
       "      <th>2021-02-22 01:00:00</th>\n",
       "      <td>1.05</td>\n",
       "      <td>171.5</td>\n",
       "    </tr>\n",
       "    <tr>\n",
       "      <th>2021-02-22 02:00:00</th>\n",
       "      <td>1.05</td>\n",
       "      <td>251.5</td>\n",
       "    </tr>\n",
       "    <tr>\n",
       "      <th>2021-02-22 03:00:00</th>\n",
       "      <td>0.75</td>\n",
       "      <td>270.0</td>\n",
       "    </tr>\n",
       "    <tr>\n",
       "      <th>2021-02-22 04:00:00</th>\n",
       "      <td>0.65</td>\n",
       "      <td>215.5</td>\n",
       "    </tr>\n",
       "    <tr>\n",
       "      <th>...</th>\n",
       "      <td>...</td>\n",
       "      <td>...</td>\n",
       "    </tr>\n",
       "    <tr>\n",
       "      <th>2021-02-28 19:00:00</th>\n",
       "      <td>0.80</td>\n",
       "      <td>108.5</td>\n",
       "    </tr>\n",
       "    <tr>\n",
       "      <th>2021-02-28 20:00:00</th>\n",
       "      <td>0.85</td>\n",
       "      <td>325.0</td>\n",
       "    </tr>\n",
       "    <tr>\n",
       "      <th>2021-02-28 21:00:00</th>\n",
       "      <td>0.75</td>\n",
       "      <td>207.5</td>\n",
       "    </tr>\n",
       "    <tr>\n",
       "      <th>2021-02-28 22:00:00</th>\n",
       "      <td>1.15</td>\n",
       "      <td>133.5</td>\n",
       "    </tr>\n",
       "    <tr>\n",
       "      <th>2021-02-28 23:00:00</th>\n",
       "      <td>0.90</td>\n",
       "      <td>151.0</td>\n",
       "    </tr>\n",
       "  </tbody>\n",
       "</table>\n",
       "<p>168 rows × 2 columns</p>\n",
       "</div>"
      ],
      "text/plain": [
       "                     Wind_Geschwindigkeit  Wind_Richtung\n",
       "Time                                                    \n",
       "2021-02-22 00:00:00                  0.85          244.0\n",
       "2021-02-22 01:00:00                  1.05          171.5\n",
       "2021-02-22 02:00:00                  1.05          251.5\n",
       "2021-02-22 03:00:00                  0.75          270.0\n",
       "2021-02-22 04:00:00                  0.65          215.5\n",
       "...                                   ...            ...\n",
       "2021-02-28 19:00:00                  0.80          108.5\n",
       "2021-02-28 20:00:00                  0.85          325.0\n",
       "2021-02-28 21:00:00                  0.75          207.5\n",
       "2021-02-28 22:00:00                  1.15          133.5\n",
       "2021-02-28 23:00:00                  0.90          151.0\n",
       "\n",
       "[168 rows x 2 columns]"
      ]
     },
     "execution_count": 170,
     "metadata": {},
     "output_type": "execute_result"
    }
   ],
   "source": [
    "df_hour"
   ]
  }
 ],
 "metadata": {
  "kernelspec": {
   "display_name": "Python 3",
   "language": "python",
   "name": "python3"
  },
  "language_info": {
   "codemirror_mode": {
    "name": "ipython",
    "version": 3
   },
   "file_extension": ".py",
   "mimetype": "text/x-python",
   "name": "python",
   "nbconvert_exporter": "python",
   "pygments_lexer": "ipython3",
   "version": "3.8.5"
  }
 },
 "nbformat": 4,
 "nbformat_minor": 4
}
